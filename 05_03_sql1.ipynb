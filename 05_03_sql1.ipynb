{
 "cells": [
  {
   "cell_type": "code",
   "execution_count": 15,
   "id": "25ec666e-2b40-479a-b677-fba0b793c6e3",
   "metadata": {},
   "outputs": [
    {
     "name": "stdout",
     "output_type": "stream",
     "text": [
      "9.2.0\n",
      "<mysql.connector.connection_cext.CMySQLConnection object at 0x7afd43e8b6d0>\n"
     ]
    }
   ],
   "source": [
    "import mysql.connector as myconn\n",
    "print(myconn.__version__)\n",
    "\n",
    "\n",
    "import mysql.connector\n",
    "\n",
    "# Connect to the MySQL server\n",
    "connection = mysql.connector.connect(\n",
    "    host=\"localhost\",  # Replace with your MySQL host\n",
    "    user=\"Pabitra\",       # Replace with your MySQL username\n",
    "    password=\"Trd@0506\",\n",
    "    database=\"Tarun\" # Replace with your MySQL password\n",
    ")\n",
    "print(connection)\n",
    "cursor = connection.cursor()\n",
    "\n"
   ]
  },
  {
   "cell_type": "code",
   "execution_count": 17,
   "id": "b6ac4e9b-a217-4a90-8b1d-ea0f7484f8c2",
   "metadata": {},
   "outputs": [],
   "source": [
    "\n",
    "cursor.execute(\"\"\"\n",
    "CREATE TABLE IF NOT EXISTS students (\n",
    "id INT AUTO_INCREMENT PRIMARY KEY,\n",
    "name VARCHAR(100),\n",
    "age INT\n",
    ")\n",
    "\"\"\")"
   ]
  },
  {
   "cell_type": "code",
   "execution_count": 19,
   "id": "35a3fa00-2dcc-4d8b-be9a-93ad4bb71c21",
   "metadata": {},
   "outputs": [],
   "source": [
    "cursor.execute(\"INSERT INTO students (name, age) VALUES (%s, %s)\", (\"Alice\", 22))\n",
    "connection.commit() # Commit the changes\n"
   ]
  },
  {
   "cell_type": "code",
   "execution_count": 21,
   "id": "e3dd81ca-743e-404b-b3ec-b7e35b19ea48",
   "metadata": {},
   "outputs": [
    {
     "name": "stdout",
     "output_type": "stream",
     "text": [
      "(1, 'Alice', 22)\n",
      "(2, 'Alice', 22)\n"
     ]
    }
   ],
   "source": [
    "cursor.execute(\"SELECT * FROM students\")\n",
    "rows = cursor.fetchall()\n",
    "for row in rows:\n",
    "    print(row)"
   ]
  },
  {
   "cell_type": "code",
   "execution_count": 23,
   "id": "a549651c-5766-4c5c-ad70-44f9bceb30b7",
   "metadata": {},
   "outputs": [],
   "source": [
    "cursor.close()\n",
    "connection.close()"
   ]
  },
  {
   "cell_type": "code",
   "execution_count": null,
   "id": "0f0563c4-d389-4608-bf62-492d540515f2",
   "metadata": {},
   "outputs": [],
   "source": []
  }
 ],
 "metadata": {
  "kernelspec": {
   "display_name": "Python 3 (ipykernel)",
   "language": "python",
   "name": "python3"
  },
  "language_info": {
   "codemirror_mode": {
    "name": "ipython",
    "version": 3
   },
   "file_extension": ".py",
   "mimetype": "text/x-python",
   "name": "python",
   "nbconvert_exporter": "python",
   "pygments_lexer": "ipython3",
   "version": "3.10.12"
  }
 },
 "nbformat": 4,
 "nbformat_minor": 5
}
